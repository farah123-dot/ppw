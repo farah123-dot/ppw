{
  "cells": [
    {
      "cell_type": "markdown",
      "metadata": {
        "id": "JcORzPgr18EB"
      },
      "source": [
        "# Crawling"
      ]
    },
    {
      "cell_type": "code",
      "execution_count": 1,
      "metadata": {
        "colab": {
          "base_uri": "https://localhost:8080/"
        },
        "id": "R1BLcsQ-qY4B",
        "outputId": "e26d18ba-cbb9-4744-fc3a-3f83a2735b5a"
      },
      "outputs": [
        {
          "name": "stdout",
          "output_type": "stream",
          "text": [
            "Requirement already satisfied: sprynger in /usr/local/python/3.12.1/lib/python3.12/site-packages (0.4.1)\n",
            "Requirement already satisfied: lxml in /usr/local/python/3.12.1/lib/python3.12/site-packages (from sprynger) (6.0.1)\n",
            "Requirement already satisfied: requests in /home/codespace/.local/lib/python3.12/site-packages (from sprynger) (2.32.4)\n",
            "Requirement already satisfied: urllib3 in /home/codespace/.local/lib/python3.12/site-packages (from sprynger) (2.5.0)\n",
            "Requirement already satisfied: platformdirs in /home/codespace/.local/lib/python3.12/site-packages (from sprynger) (4.3.8)\n",
            "Requirement already satisfied: charset_normalizer<4,>=2 in /home/codespace/.local/lib/python3.12/site-packages (from requests->sprynger) (3.4.2)\n",
            "Requirement already satisfied: idna<4,>=2.5 in /home/codespace/.local/lib/python3.12/site-packages (from requests->sprynger) (3.10)\n",
            "Requirement already satisfied: certifi>=2017.4.17 in /home/codespace/.local/lib/python3.12/site-packages (from requests->sprynger) (2025.7.9)\n",
            "\n",
            "\u001b[1m[\u001b[0m\u001b[34;49mnotice\u001b[0m\u001b[1;39;49m]\u001b[0m\u001b[39;49m A new release of pip is available: \u001b[0m\u001b[31;49m25.1.1\u001b[0m\u001b[39;49m -> \u001b[0m\u001b[32;49m25.2\u001b[0m\n",
            "\u001b[1m[\u001b[0m\u001b[34;49mnotice\u001b[0m\u001b[1;39;49m]\u001b[0m\u001b[39;49m To update, run: \u001b[0m\u001b[32;49mpython -m pip install --upgrade pip\u001b[0m\n",
            "Note: you may need to restart the kernel to use updated packages.\n"
          ]
        }
      ],
      "source": [
        "pip install sprynger"
      ]
    },
    {
      "cell_type": "markdown",
      "metadata": {
        "id": "QFHAR5p9yTm9"
      },
      "source": [
        "## Crawling Web Mining"
      ]
    },
    {
      "cell_type": "code",
      "execution_count": 2,
      "metadata": {
        "colab": {
          "base_uri": "https://localhost:8080/"
        },
        "id": "hQ-68eHGrUwH",
        "outputId": "22e2825a-e55d-401a-c7b0-db574309b3f1"
      },
      "outputs": [
        {
          "name": "stdout",
          "output_type": "stream",
          "text": [
            "Total hasil: 319178\n",
            "\n",
            "DOI: 10.1007/s44174-025-00279-4\n",
            "Title: Exploring Multimodal Framework of Optimized Feature-Based Machine Learning to Revolutionize the Diagnosis of Parkinson’s Disease: AI-Driven Insights\n",
            "Abstract: Parkinson’s disease (PD), a progressive neurodegenerative disorder, poses significant challenges to healthcare systems worldwide due to its increasing prevalence and need for early detection to improve patient outcomes. This study introduces a robust diagnostic framework leveraging a multimodal feature selection approach, combining Minimum Redundancy Maximum Relevance (mRMR) with Recursive Feature Elimination (RFE), to optimize predictive accuracy in detecting PD. Using a dataset of 894 instances from the UCI Machine Learning Repository, the framework implemented comprehensive data preprocessing and feature selection techniques to refine input features. The Extra Trees classifier, integrated with the mRMR-RFE multimodal feature selection method, demonstrated superior performance over nine other machine learning models, achieving a perfect accuracy of 100%, with high specificity, sensitivity, precision, and F1 scores. This framework highlights the efficacy of ensemble learning methods and feature optimization in healthcare, ensuring computational efficiency and high predictive reliability. By addressing the challenges of dimensionality reduction and ensuring precise predictions, the proposed model sets a benchmark for machine learning applications in PD diagnosis. The results emphasize the potential of this framework to facilitate early detection and support clinical decision making, with significant implications for advancing AI-driven healthcare systems.\n",
            "URL: http://link.springer.com/openurl/fulltext?id=doi:10.1007/s44174-025-00279-4\n",
            "\n",
            "DOI: 10.1007/s44174-025-00308-2\n",
            "Title: Development of Toughened Poly (lactic acid) by Melt Blending with Poly (butylene adipate-co-terephthalate) Using Epoxidized Castor Oil as a Compatibilizer for Biomedical Applications\n",
            "Abstract: Poly (lactic acid) (PLA) is a bioderived and biodegradable thermoplastic widely used in various applications; however, its brittleness limits its mechanical performance. To address this issue, this study develops fully biodegradable PLA/Poly (butylene adipate-co-terephthalate) (PBAT) blends compatibilized with epoxidized castor oil (ECO), providing a sustainable alternative to conventional non-biodegradable compatibilizers. PLA/PBAT blends with varying ECO concentrations (0.5, 1.0, and 1.5%) were prepared via melt mixing and characterized using multiple techniques. Fourier transform infrared (FTIR) spectroscopy confirmed effective interactions between ECO, PLA, and PBAT, enhancing compatibility. Thermal properties were analyzed using differential scanning calorimetry (DSC), while contact angle measurements demonstrated an increase in hydrophilicity, confirming their suitability for biomedical applications. Mechanical testing revealed that PLA/PBAT blends with 1.0% ECO exhibited significantly improved elongation at break and impact strength without compromising tensile strength. Field emission scanning electron microscopy (FESEM) showed uniform PBAT dispersion and enhanced interfacial morphology. Furthermore, cell proliferation, adhesion activity, and hemocompatibility assessments confirmed excellent biocompatibility, highlighting their potential for biomedical use. These findings suggest that ECO-modified PLA/PBAT blends offer a promising route for developing high-performance, biodegradable materials suitable for biomedical applications.\n",
            "URL: http://link.springer.com/openurl/fulltext?id=doi:10.1007/s44174-025-00308-2\n",
            "\n",
            "DOI: 10.1007/978-3-031-98238-5_1\n",
            "Title: Introduction\n",
            "Abstract: Underwater cultural heritage (UCH) is integral to both cultural heritage and natural heritage, thus making it a shared Ocean Heritage . The stories of our societies and our ancestors are wrapped in intangible connections with the ocean and preserved on the seafloor as artefacts, shipwrecks, and remains of those lost or buried at sea. Deep sea mining (DSM) threatens this Ocean Heritage and has the potential to destroy crucial pieces of our past and disrupt our deep cultural connections to the ocean. This book is designed to highlight the potential threat of DSM, covered here mostly in international waters and as regulated by the International Seabed Authority (ISA), and make ocean professionals across many different fields aware of those dangers and of the work is being done to help mitigate the possible launch of DSM operations. It does not aim to be the final word on the issue but rather start a discussion and encourage scientists and cultural leaders to engage and work together.\n",
            "URL: http://link.springer.com/openurl/fulltext?id=doi:10.1007/978-3-031-98238-5_1\n",
            "\n",
            "DOI: 10.1007/978-3-032-00983-8_5\n",
            "Title: Survey on Data Mining and Machine Learning Methods Used in Analyzing Tweets\n",
            "Abstract: It is observed that the Mental illness by the actions and individual emotions and expressions towards a particular situation. It indicates that American Psychiatric Association that has 19% of people experience mental illness. Nearly 4.1% of people [ 1 ] are seriously affected by mental illness. In 2019, World Health Organization(WHO) reported that 264 million people suffer from mental disorders. With the technological growth and affordable internet access, social media usage and impacts are increased in society. Users use social networks to show their emotions, views, and comments related to mental health on various events and themselves. Different intelligent methods that analyze tweets related to depression are summarized. New research areas in analyzing data on social networks are discussed. This article highlights the data mining and machine learning methods associated with mental health using Twitter data.\n",
            "URL: http://link.springer.com/openurl/fulltext?id=doi:10.1007/978-3-032-00983-8_5\n",
            "\n",
            "DOI: 10.1007/978-3-032-03028-3_1\n",
            "Title: A Subjective Pattern Mining Literature Survey\n",
            "Abstract: This survey paper covers about three decades of research on pattern discovery. We consider some of the major breakthroughs about constraint-based data mining and several nice results about interesting pattern set discovery. We then focus on recent approaches for a cross-fertilization between pattern discovery and neural-based Machine Learning approaches. Specifically, neural methods have been developed for pattern mining and pattern set mining, enabling more efficient exploration of structural motifs in complex datasets. Additionally, hybrid approaches integrating Explainable AI (XAI) techniques have emerged, aiming to enhance the interpretability and transparency of machine learning models. We finally illustrate to what extent our colleague Arno Siebes has contributed to the considered topics.\n",
            "URL: http://link.springer.com/openurl/fulltext?id=doi:10.1007/978-3-032-03028-3_1\n",
            "\n",
            "DOI: 10.1007/978-3-031-98238-5_8\n",
            "Title: Moana Matters: Culture and Deep Sea Mining in Oceania\n",
            "Abstract: Cultural connectivity has been a marker of Oceania since time immemorial. Islands were fished out of the water by ancestral demi-gods; sea routes were mapped and shared with kindred animals; currents, winds, and stars were felt, breathed in, and drawn in sand and in minds. Sharks, dolphins, and turtles are still called today across different islands Place names are shared across vast expanses and ancient sacred complexes unite communities from different corners of Oceania. Deep sea mining (DSM) threatens this long standing connectivity, compounding the already serious impacts of climate change which are damaging the ocean and islands.\n",
            "URL: http://link.springer.com/openurl/fulltext?id=doi:10.1007/978-3-031-98238-5_8\n",
            "\n",
            "DOI: 10.1007/978-3-031-93802-3_7\n",
            "Title: Unveiling Power Laws in Graph Mining: Techniques and Applications in Graph Query Analysis\n",
            "Abstract: Power laws play a crucial role in understanding the structural and functional properties of real-world graphs, influencing various aspects of graph mining and query processing. This paper explores the prevalence of power-law distributions in large-scale graph structures and their implications for graph query analysis. We investigate techniques for efficiently mining graphs that exhibit power-law characteristics, leveraging these distributions to optimize query performance and scalability. Our study presents a comprehensive review of existing methodologies for detecting power-law behavior in graphs, highlighting their impact on graph traversal, indexing, and query execution. We also examine algorithmic optimizations tailored for power-law graphs, including degree-based indexing, community-aware search techniques, and efficient subgraph matching approaches. Furthermore, we discuss the applications of power-law principles in diverse domains such as social network analysis, bioinformatics, and knowledge graphs. Through empirical analysis on real-world datasets, we demonstrate how power-law-aware techniques improve query efficiency and reduce computational complexity in large graph databases. The findings of this study offer valuable insights into the interplay between graph topology and query optimization, paving the way for enhanced graph mining frameworks. Our work contributes to the development of more scalable and intelligent graph query processing systems, with broad implications for data-driven decision-making.\n",
            "URL: http://link.springer.com/openurl/fulltext?id=doi:10.1007/978-3-031-93802-3_7\n",
            "\n",
            "DOI: 10.1007/978-981-96-7238-7_2\n",
            "Title: Architecture Mining Approach for Systems-of-Systems: Monitoring and Discovery\n",
            "Abstract: Context: Systems of Systems (SoS) constitute a type of complex software systems resulting from integrating heterogeneous constituent systems that are independently operable on their own but are networked together for a common goal. Each constituent system has its own purpose and could operate and collaborate voluntarily with other constituent systems to achieve a common goal that cannot be treated by any of them in isolation. Objective: A constituent system may be deployed or undeployed at run-time within an SoS. Emergent behaviors may be undesirable and affect the behaviors of each constituent system and lead to unexpected operations and a lack of permanent status in the SoS. Thus, we need to continuously extract and represent the actual behaviors within the SoS at run-time. Method: In this paper, we implement the first step our “Architecture Mining” approach. Thus, we monitor an SoS and develop Discovery algorithm to extract the actual behaviors. The actual behaviors are presented by a “Discovered Model” dynamically and automatically built from the execution traces. Results: To implement our approach, we applied it to a case study entitled Smart City, which is an SoS including six types of constituent systems. We extracted the actual behaviors executed at run time from the SoS execution traces, which have never been modeled in any constituent system nor expected by the designer.\n",
            "URL: http://link.springer.com/openurl/fulltext?id=doi:10.1007/978-981-96-7238-7_2\n",
            "\n",
            "DOI: 10.1007/978-3-031-95296-8_15\n",
            "Title: A Mathematical Model and Algorithm for Data Analysis in the Intelligent Management System for Mining and Transport Complexes\n",
            "Abstract: Machine learning methods play an important role in creating algorithms for data analysis in the mining industry. These methods allow you to train the system based on historical data and identify hidden patterns that may not be obvious in traditional analysis. Machine learning algorithms can be used to predict breakdowns, optimize production processes and identify anomalies in the operation of machinery. For example, with the help of training on data on the operation of equipment, you can create a model that will predict the probability of failure of a certain part under specified operating conditions.\n",
            "URL: http://link.springer.com/openurl/fulltext?id=doi:10.1007/978-3-031-95296-8_15\n",
            "\n",
            "DOI: 10.1007/978-3-032-03028-3_3\n",
            "Title: Did this Leopard Change his Spots?\n",
            "Abstract: On the occasion of Arno Siebes’ retirement, we revisit pattern mining to explore Arno-centric bibliographic data and highlight some trends in the output of his scientific career. By using pattern condensed representations and redescription mining, we shed new light on Arno’s work and retrace his career. Interestingly, we show that Arno’s data do not compress well, reflecting a particularly varied publication activity where redundancy is limited. Finally, we explore bibliographic data of his most frequent co-authors, Matthijs van Leeuwen and Jilles Vreeken , former PhD students of his, in order to determine if they stay in the lane that they explored under their supervisor, or branched out into new areas.\n",
            "URL: http://link.springer.com/openurl/fulltext?id=doi:10.1007/978-3-032-03028-3_3\n",
            "\n"
          ]
        }
      ],
      "source": [
        "import requests\n",
        "\n",
        "# Masukkan API key yang kamu dapat dari https://dev.springernature.com/#api\n",
        "api_key = \"e31a281ff90ce0b3f5f9b26b51ac6e3c\"   # ganti dengan API key punyamu\n",
        "\n",
        "\n",
        "keyword = \"web mining\"\n",
        "\n",
        "url = \"https://api.springernature.com/meta/v2/json\"\n",
        "params = {\n",
        "    \"q\": keyword,\n",
        "    \"api_key\": api_key,\n",
        "    \"p\": 10   # jumlah hasil yang mau ditampilkan\n",
        "}\n",
        "\n",
        "response = requests.get(url, params=params)\n",
        "\n",
        "if response.status_code == 200:\n",
        "    data = response.json()\n",
        "    print(f\"Total hasil: {data['result'][0]['total']}\\n\")\n",
        "    for record in data['records']:\n",
        "        doi = record.get('doi', 'N/A')\n",
        "        title = record.get('title', 'No title')\n",
        "        abstract = record.get('abstract', 'No abstract')\n",
        "        url_val = record.get('url', [{}])[0].get('value', 'N/A')\n",
        "\n",
        "        print(f\"DOI: {doi}\")\n",
        "        print(f\"Title: {title}\")\n",
        "        print(f\"Abstract: {abstract}\")\n",
        "        print(f\"URL: {url_val}\\n\")\n",
        "else:\n",
        "    print(\"Error:\", response.status_code, response.text)\n"
      ]
    },
    {
      "cell_type": "code",
      "execution_count": 3,
      "metadata": {
        "colab": {
          "base_uri": "https://localhost:8080/"
        },
        "id": "mTH3_rGUzBgO",
        "outputId": "e43991d7-7a9c-426e-a714-d2a8c1c9b828"
      },
      "outputs": [
        {
          "name": "stdout",
          "output_type": "stream",
          "text": [
            "File springer_results.csv berhasil dibuat.\n"
          ]
        }
      ],
      "source": [
        "import requests\n",
        "import csv\n",
        "\n",
        "# Masukkan API key milikmu\n",
        "api_key = \"e31a281ff90ce0b3f5f9b26b51ac6e3c\"\n",
        "\n",
        "keyword = \"web mining\"\n",
        "\n",
        "url = \"https://api.springernature.com/meta/v2/json\"\n",
        "params = {\n",
        "    \"q\": keyword,\n",
        "    \"api_key\": api_key,\n",
        "    \"p\": 20   # jumlah hasil yang mau ditampilkan\n",
        "}\n",
        "\n",
        "response = requests.get(url, params=params)\n",
        "\n",
        "if response.status_code == 200:\n",
        "    data = response.json()\n",
        "\n",
        "    # Simpan ke CSV\n",
        "    with open(\"springer_results.csv\", \"w\", newline=\"\", encoding=\"utf-8\") as csvfile:\n",
        "        writer = csv.writer(csvfile)\n",
        "        writer.writerow([\"DOI\", \"Title\", \"Abstract\", \"URL\"])  # header\n",
        "\n",
        "        for record in data['records']:\n",
        "            doi = record.get('doi', 'N/A')\n",
        "            title = record.get('title', 'No title')\n",
        "            abstract = record.get('abstract', 'No abstract')\n",
        "            url_val = record.get('url', [{}])[0].get('value', 'N/A')\n",
        "\n",
        "            writer.writerow([doi, title, abstract, url_val])\n",
        "\n",
        "    print(\"File springer_results.csv berhasil dibuat.\")"
      ]
    },
    {
      "cell_type": "markdown",
      "metadata": {
        "id": "8avqBlWQDXCq"
      },
      "source": [
        "## web usage mining"
      ]
    },
    {
      "cell_type": "code",
      "execution_count": 4,
      "metadata": {
        "colab": {
          "base_uri": "https://localhost:8080/"
        },
        "id": "RKHqOJB-CbmQ",
        "outputId": "903bc718-1a0a-4982-9cad-f83d6ea6cfdd"
      },
      "outputs": [
        {
          "name": "stdout",
          "output_type": "stream",
          "text": [
            "Total hasil: 91402\n",
            "\n",
            "DOI: 10.1007/s44174-025-00279-4\n",
            "Title: Exploring Multimodal Framework of Optimized Feature-Based Machine Learning to Revolutionize the Diagnosis of Parkinson’s Disease: AI-Driven Insights\n",
            "Abstract: Parkinson’s disease (PD), a progressive neurodegenerative disorder, poses significant challenges to healthcare systems worldwide due to its increasing prevalence and need for early detection to improve patient outcomes. This study introduces a robust diagnostic framework leveraging a multimodal feature selection approach, combining Minimum Redundancy Maximum Relevance (mRMR) with Recursive Feature Elimination (RFE), to optimize predictive accuracy in detecting PD. Using a dataset of 894 instances from the UCI Machine Learning Repository, the framework implemented comprehensive data preprocessing and feature selection techniques to refine input features. The Extra Trees classifier, integrated with the mRMR-RFE multimodal feature selection method, demonstrated superior performance over nine other machine learning models, achieving a perfect accuracy of 100%, with high specificity, sensitivity, precision, and F1 scores. This framework highlights the efficacy of ensemble learning methods and feature optimization in healthcare, ensuring computational efficiency and high predictive reliability. By addressing the challenges of dimensionality reduction and ensuring precise predictions, the proposed model sets a benchmark for machine learning applications in PD diagnosis. The results emphasize the potential of this framework to facilitate early detection and support clinical decision making, with significant implications for advancing AI-driven healthcare systems.\n",
            "URL: http://link.springer.com/openurl/fulltext?id=doi:10.1007/s44174-025-00279-4\n",
            "\n",
            "DOI: 10.1007/s44174-025-00308-2\n",
            "Title: Development of Toughened Poly (lactic acid) by Melt Blending with Poly (butylene adipate-co-terephthalate) Using Epoxidized Castor Oil as a Compatibilizer for Biomedical Applications\n",
            "Abstract: Poly (lactic acid) (PLA) is a bioderived and biodegradable thermoplastic widely used in various applications; however, its brittleness limits its mechanical performance. To address this issue, this study develops fully biodegradable PLA/Poly (butylene adipate-co-terephthalate) (PBAT) blends compatibilized with epoxidized castor oil (ECO), providing a sustainable alternative to conventional non-biodegradable compatibilizers. PLA/PBAT blends with varying ECO concentrations (0.5, 1.0, and 1.5%) were prepared via melt mixing and characterized using multiple techniques. Fourier transform infrared (FTIR) spectroscopy confirmed effective interactions between ECO, PLA, and PBAT, enhancing compatibility. Thermal properties were analyzed using differential scanning calorimetry (DSC), while contact angle measurements demonstrated an increase in hydrophilicity, confirming their suitability for biomedical applications. Mechanical testing revealed that PLA/PBAT blends with 1.0% ECO exhibited significantly improved elongation at break and impact strength without compromising tensile strength. Field emission scanning electron microscopy (FESEM) showed uniform PBAT dispersion and enhanced interfacial morphology. Furthermore, cell proliferation, adhesion activity, and hemocompatibility assessments confirmed excellent biocompatibility, highlighting their potential for biomedical use. These findings suggest that ECO-modified PLA/PBAT blends offer a promising route for developing high-performance, biodegradable materials suitable for biomedical applications.\n",
            "URL: http://link.springer.com/openurl/fulltext?id=doi:10.1007/s44174-025-00308-2\n",
            "\n",
            "DOI: 10.1007/978-3-031-90470-7_6\n",
            "Title: ‘Internet of Things’ and ‘Social Networking’: Containment\n",
            "Abstract: Moving to the post-2000 period, or the post-formation Internet Polity, this chapter begins with the implications of the internet becoming the centred repository of sources, medium of investigation, and object in historicist accounts of recent and contemporary events. Debates on ‘technological determinism Technological determinism ’ are considered here. As events, 9/11 and the 2000 dot-com crash are pegged as turning points. A broad argument is proposed about the condition of the Internet Polity thereafter. It is suggested that it became contained in two moves during the 2000s. This containment involved, first, a space of the internet opening beyond the scope of the Internet Polity. This space incorporated data exchanges between ‘smart’ objects, unsupervised systems, and machine-learning systems. Second, much of the Internet Polity discourse and collective life became concentrated in very large platforms, which have global reach, local penetration, and data-management standards. This move facilitated the burgeoning data market and fed into the first move. The two moves are outlined by focusing on two catchwords and related terms. The first is addressed via the connotations of ‘Internet of Things’ and ‘smart’ objects, and the second by pausing on ‘social networking’ (on ‘sites’ or ‘platforms’). This chapter, and the study, concludes by briefly reconsidering the formative first principles of the Internet Polity, and pinpointing areas for further investigations.\n",
            "URL: http://link.springer.com/openurl/fulltext?id=doi:10.1007/978-3-031-90470-7_6\n",
            "\n",
            "DOI: 10.1007/978-3-032-00983-8_5\n",
            "Title: Survey on Data Mining and Machine Learning Methods Used in Analyzing Tweets\n",
            "Abstract: It is observed that the Mental illness by the actions and individual emotions and expressions towards a particular situation. It indicates that American Psychiatric Association that has 19% of people experience mental illness. Nearly 4.1% of people [ 1 ] are seriously affected by mental illness. In 2019, World Health Organization(WHO) reported that 264 million people suffer from mental disorders. With the technological growth and affordable internet access, social media usage and impacts are increased in society. Users use social networks to show their emotions, views, and comments related to mental health on various events and themselves. Different intelligent methods that analyze tweets related to depression are summarized. New research areas in analyzing data on social networks are discussed. This article highlights the data mining and machine learning methods associated with mental health using Twitter data.\n",
            "URL: http://link.springer.com/openurl/fulltext?id=doi:10.1007/978-3-032-00983-8_5\n",
            "\n",
            "DOI: 10.1007/978-3-032-03028-3_1\n",
            "Title: A Subjective Pattern Mining Literature Survey\n",
            "Abstract: This survey paper covers about three decades of research on pattern discovery. We consider some of the major breakthroughs about constraint-based data mining and several nice results about interesting pattern set discovery. We then focus on recent approaches for a cross-fertilization between pattern discovery and neural-based Machine Learning approaches. Specifically, neural methods have been developed for pattern mining and pattern set mining, enabling more efficient exploration of structural motifs in complex datasets. Additionally, hybrid approaches integrating Explainable AI (XAI) techniques have emerged, aiming to enhance the interpretability and transparency of machine learning models. We finally illustrate to what extent our colleague Arno Siebes has contributed to the considered topics.\n",
            "URL: http://link.springer.com/openurl/fulltext?id=doi:10.1007/978-3-032-03028-3_1\n",
            "\n",
            "DOI: 10.1007/978-3-031-93802-3_7\n",
            "Title: Unveiling Power Laws in Graph Mining: Techniques and Applications in Graph Query Analysis\n",
            "Abstract: Power laws play a crucial role in understanding the structural and functional properties of real-world graphs, influencing various aspects of graph mining and query processing. This paper explores the prevalence of power-law distributions in large-scale graph structures and their implications for graph query analysis. We investigate techniques for efficiently mining graphs that exhibit power-law characteristics, leveraging these distributions to optimize query performance and scalability. Our study presents a comprehensive review of existing methodologies for detecting power-law behavior in graphs, highlighting their impact on graph traversal, indexing, and query execution. We also examine algorithmic optimizations tailored for power-law graphs, including degree-based indexing, community-aware search techniques, and efficient subgraph matching approaches. Furthermore, we discuss the applications of power-law principles in diverse domains such as social network analysis, bioinformatics, and knowledge graphs. Through empirical analysis on real-world datasets, we demonstrate how power-law-aware techniques improve query efficiency and reduce computational complexity in large graph databases. The findings of this study offer valuable insights into the interplay between graph topology and query optimization, paving the way for enhanced graph mining frameworks. Our work contributes to the development of more scalable and intelligent graph query processing systems, with broad implications for data-driven decision-making.\n",
            "URL: http://link.springer.com/openurl/fulltext?id=doi:10.1007/978-3-031-93802-3_7\n",
            "\n",
            "DOI: 10.1007/978-3-032-03028-3_3\n",
            "Title: Did this Leopard Change his Spots?\n",
            "Abstract: On the occasion of Arno Siebes’ retirement, we revisit pattern mining to explore Arno-centric bibliographic data and highlight some trends in the output of his scientific career. By using pattern condensed representations and redescription mining, we shed new light on Arno’s work and retrace his career. Interestingly, we show that Arno’s data do not compress well, reflecting a particularly varied publication activity where redundancy is limited. Finally, we explore bibliographic data of his most frequent co-authors, Matthijs van Leeuwen and Jilles Vreeken , former PhD students of his, in order to determine if they stay in the lane that they explored under their supervisor, or branched out into new areas.\n",
            "URL: http://link.springer.com/openurl/fulltext?id=doi:10.1007/978-3-032-03028-3_3\n",
            "\n",
            "DOI: 10.1007/978-3-032-02215-8_7\n",
            "Title: An Enhanced FP-Growth Algorithm with Hybrid Adaptive Support Threshold for Association Rule Mining\n",
            "Abstract: Finding frequent itemsets remains challenging due to manual threshold specification requirements in existing algorithms. This paper presents an Enhanced FP-Growth algorithm incorporating a hybrid adaptive support threshold that combines statistical variance analysis, frequency distribution patterns, and transaction density metrics. The algorithm automatically adjusts support levels based on dataset characteristics, eliminating manual threshold tuning. Experimental evaluation on five benchmark datasets against Aprior, FP-growth, and FP-Max shows our Enhanced FP-Growth consistently achieves superior execution time and improved memory efficiency. The hybrid threshold mechanism dynamically calibrates according to dataset characteristics, offering substantial efficiency gains across diverse data types.\n",
            "URL: http://link.springer.com/openurl/fulltext?id=doi:10.1007/978-3-032-02215-8_7\n",
            "\n",
            "DOI: 10.1007/978-3-032-06155-3_10\n",
            "Title: Google Tag Manager and Its Privacy Issues\n",
            "Abstract: Google Tag Manager (GTM) is a tag manager that allows third-party scripts to be inserted, modified, or deleted on a website from a graphical interface, without having to modify the source code. These tags collect data such as visits, clicks, form submissions, traffic sources, user behavior, and purchase actions. While Google establishes control mechanisms to maintain good practices and comply with the respective legislation, the fact that GTM operates at a more abstract level means that if privacy breaches arise, such as personal data leaks, web publishers would have a hard time detecting them. This paper analyzes the behavior of official GTM tags in a sandbox environment and GTM’s behavior in the wild, looking at the million most popular websites and the tags available to web publishers in the Community Template Gallery. The results reveal flaws in the tool’s permission system, particularly related to the use of the Inject Scripts permission, affecting 62.4% of the web container tags available in the Community Template Gallery and 51.22% of the websites using GTM. This affected 40,185 websites using GTM. The vulnerability also revealed the use of 236,838 “Custom HTML Template” tags accessing third-party scripts, thus violating the permission system. This situation was observed on 50,526 websites. Overall, the risk was found to extend to 57,096 websites, representing 72.64% of the sites using the tool.\n",
            "URL: http://link.springer.com/openurl/fulltext?id=doi:10.1007/978-3-032-06155-3_10\n",
            "\n",
            "DOI: 10.1007/978-3-032-04207-1_24\n",
            "Title: An Empirical Analysis on the Use of Third-Party HTTP Clients in Open-Source Java Projects\n",
            "Abstract: External communication libraries (e.g., for HTTP/REST) are static dependencies that enable dynamic dependencies in software systems. Such third-party HTTP libraries may influence the system’s qualities. Thus, the selection out of numerous third-party HTTP clients needs to be taken carefully. However, the use of such clients has not been studied broadly. We conduct a quantitative empirical study of 18,879 open-source Java repositories and analyze 259,683 configuration files. We further investigate a subset of these repositories qualitatively and in more depth. We have found that Apache HttpClient, Spring Web, and OkHttp are the most used third-party HTTP clients in Java open-source projects. Further analysis has shown that declared dependencies are often not actively managed, reference outdated versions, or are entirely unused.\n",
            "URL: http://link.springer.com/openurl/fulltext?id=doi:10.1007/978-3-032-04207-1_24\n",
            "\n"
          ]
        }
      ],
      "source": [
        "import requests\n",
        "\n",
        "# Masukkan API key yang kamu dapat dari https://dev.springernature.com/#api\n",
        "api_key = \"e31a281ff90ce0b3f5f9b26b51ac6e3c\"   # ganti dengan API key punyamu\n",
        "\n",
        "\n",
        "keyword = \"web usage mining\"\n",
        "\n",
        "url = \"https://api.springernature.com/meta/v2/json\"\n",
        "params = {\n",
        "    \"q\": keyword,\n",
        "    \"api_key\": api_key,\n",
        "    \"p\": 10   # jumlah hasil yang mau ditampilkan\n",
        "}\n",
        "\n",
        "response = requests.get(url, params=params)\n",
        "\n",
        "if response.status_code == 200:\n",
        "    data = response.json()\n",
        "    print(f\"Total hasil: {data['result'][0]['total']}\\n\")\n",
        "    for record in data['records']:\n",
        "        doi = record.get('doi', 'N/A')\n",
        "        title = record.get('title', 'No title')\n",
        "        abstract = record.get('abstract', 'No abstract')\n",
        "        url_val = record.get('url', [{}])[0].get('value', 'N/A')\n",
        "\n",
        "        print(f\"DOI: {doi}\")\n",
        "        print(f\"Title: {title}\")\n",
        "        print(f\"Abstract: {abstract}\")\n",
        "        print(f\"URL: {url_val}\\n\")\n",
        "else:\n",
        "    print(\"Error:\", response.status_code, response.text)"
      ]
    },
    {
      "cell_type": "code",
      "execution_count": 5,
      "metadata": {
        "colab": {
          "base_uri": "https://localhost:8080/"
        },
        "id": "A0xuqOmNCvSP",
        "outputId": "b6a6ec1c-d594-46a0-ecf2-565c72021be9"
      },
      "outputs": [
        {
          "name": "stdout",
          "output_type": "stream",
          "text": [
            "File springer_results.csv berhasil dibuat.\n"
          ]
        }
      ],
      "source": [
        "import requests\n",
        "import csv\n",
        "\n",
        "# Masukkan API key milikmu\n",
        "api_key = \"e31a281ff90ce0b3f5f9b26b51ac6e3c\"\n",
        "\n",
        "keyword = \"web usage mining\"\n",
        "\n",
        "url = \"https://api.springernature.com/meta/v2/json\"\n",
        "params = {\n",
        "    \"q\": keyword,\n",
        "    \"api_key\": api_key,\n",
        "    \"p\": 20   # jumlah hasil yang mau ditampilkan\n",
        "}\n",
        "\n",
        "response = requests.get(url, params=params)\n",
        "\n",
        "if response.status_code == 200:\n",
        "    data = response.json()\n",
        "\n",
        "    # Simpan ke CSV\n",
        "    with open(\"springer_results.csv\", \"w\", newline=\"\", encoding=\"utf-8\") as csvfile:\n",
        "        writer = csv.writer(csvfile)\n",
        "        writer.writerow([\"DOI\", \"Title\", \"Abstract\", \"URL\"])  # header\n",
        "\n",
        "        for record in data['records']:\n",
        "            doi = record.get('doi', 'N/A')\n",
        "            title = record.get('title', 'No title')\n",
        "            abstract = record.get('abstract', 'No abstract')\n",
        "            url_val = record.get('url', [{}])[0].get('value', 'N/A')\n",
        "\n",
        "            writer.writerow([doi, title, abstract, url_val])\n",
        "\n",
        "    print(\"File springer_results.csv berhasil dibuat.\")"
      ]
    }
  ],
  "metadata": {
    "colab": {
      "provenance": []
    },
    "kernelspec": {
      "display_name": "Python 3",
      "name": "python3"
    },
    "language_info": {
      "codemirror_mode": {
        "name": "ipython",
        "version": 3
      },
      "file_extension": ".py",
      "mimetype": "text/x-python",
      "name": "python",
      "nbconvert_exporter": "python",
      "pygments_lexer": "ipython3",
      "version": "3.12.1"
    }
  },
  "nbformat": 4,
  "nbformat_minor": 0
}
