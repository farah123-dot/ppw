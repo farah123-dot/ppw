{
  "cells": [
    {
      "cell_type": "markdown",
      "metadata": {
        "id": "wk9Q73XMgd_Q"
      },
      "source": [
        "# TF-IDF & Word Embedding"
      ]
    },
    {
      "cell_type": "markdown",
      "metadata": {
        "id": "8WEHhGE7ejcS"
      },
      "source": [
        "### TF-IDF"
      ]
    },
    {
      "cell_type": "code",
      "execution_count": 1,
      "metadata": {
        "colab": {
          "base_uri": "https://localhost:8080/"
        },
        "id": "ZNBjnzFQOabr",
        "outputId": "7feaf7b2-c289-4ce1-8117-e69f45de8fc0"
      },
      "outputs": [
        {
          "name": "stdout",
          "output_type": "stream",
          "text": [
            "Requirement already satisfied: scikit-learn in /home/codespace/.local/lib/python3.12/site-packages (1.7.0)\n",
            "Requirement already satisfied: numpy>=1.22.0 in /usr/local/python/3.12.1/lib/python3.12/site-packages (from scikit-learn) (1.26.4)\n",
            "Requirement already satisfied: scipy>=1.8.0 in /usr/local/python/3.12.1/lib/python3.12/site-packages (from scikit-learn) (1.13.1)\n",
            "Requirement already satisfied: joblib>=1.2.0 in /home/codespace/.local/lib/python3.12/site-packages (from scikit-learn) (1.5.1)\n",
            "Requirement already satisfied: threadpoolctl>=3.1.0 in /home/codespace/.local/lib/python3.12/site-packages (from scikit-learn) (3.6.0)\n",
            "\n",
            "\u001b[1m[\u001b[0m\u001b[34;49mnotice\u001b[0m\u001b[1;39;49m]\u001b[0m\u001b[39;49m A new release of pip is available: \u001b[0m\u001b[31;49m25.1.1\u001b[0m\u001b[39;49m -> \u001b[0m\u001b[32;49m25.2\u001b[0m\n",
            "\u001b[1m[\u001b[0m\u001b[34;49mnotice\u001b[0m\u001b[1;39;49m]\u001b[0m\u001b[39;49m To update, run: \u001b[0m\u001b[32;49mpython3 -m pip install --upgrade pip\u001b[0m\n"
          ]
        }
      ],
      "source": [
        "!pip install scikit-learn"
      ]
    },
    {
      "cell_type": "code",
      "execution_count": 2,
      "metadata": {
        "id": "Ux38ohqmOdP0"
      },
      "outputs": [],
      "source": [
        "import pandas as pd\n",
        "import ast\n",
        "from sklearn.feature_extraction.text import TfidfVectorizer"
      ]
    },
    {
      "cell_type": "code",
      "execution_count": 3,
      "metadata": {
        "colab": {
          "base_uri": "https://localhost:8080/",
          "height": 327
        },
        "id": "v97MVIYxqsn2",
        "outputId": "7da66bbc-2f35-4bf1-f6d5-15b6d19aab0b"
      },
      "outputs": [
        {
          "data": {
            "text/html": [
              "<div>\n",
              "<style scoped>\n",
              "    .dataframe tbody tr th:only-of-type {\n",
              "        vertical-align: middle;\n",
              "    }\n",
              "\n",
              "    .dataframe tbody tr th {\n",
              "        vertical-align: top;\n",
              "    }\n",
              "\n",
              "    .dataframe thead th {\n",
              "        text-align: right;\n",
              "    }\n",
              "</style>\n",
              "<table border=\"1\" class=\"dataframe\">\n",
              "  <thead>\n",
              "    <tr style=\"text-align: right;\">\n",
              "      <th></th>\n",
              "      <th>id_berita</th>\n",
              "      <th>judul_berita</th>\n",
              "      <th>isi_berita</th>\n",
              "      <th>kategori_berita</th>\n",
              "      <th>judul_clean</th>\n",
              "      <th>isi_clean</th>\n",
              "    </tr>\n",
              "  </thead>\n",
              "  <tbody>\n",
              "    <tr>\n",
              "      <th>0</th>\n",
              "      <td>2073715</td>\n",
              "      <td>Alasan Ahmad Ali Meninggalkan NasDem untuk Gab...</td>\n",
              "      <td>KETUA Harian Partai Solidaritas Indonesia (PSI...</td>\n",
              "      <td>politik</td>\n",
              "      <td>['alas', 'ahmad', 'ali', 'tinggal', 'nasdem', ...</td>\n",
              "      <td>['ketua', 'hari', 'partai', 'solidaritas', 'in...</td>\n",
              "    </tr>\n",
              "    <tr>\n",
              "      <th>1</th>\n",
              "      <td>2073713</td>\n",
              "      <td>Perintah Panglima TNI untuk SPPG Agar Kasus Ke...</td>\n",
              "      <td>PANGLIMA TNI JenderalAgus Subiyantomemerintahk...</td>\n",
              "      <td>politik</td>\n",
              "      <td>['perintah', 'panglima', 'tni', 'sppg', 'racun...</td>\n",
              "      <td>['panglima', 'tni', 'jenderalagus', 'subiyanto...</td>\n",
              "    </tr>\n",
              "    <tr>\n",
              "      <th>2</th>\n",
              "      <td>2073697</td>\n",
              "      <td>Agar Kualitas Makanan MBG Terjaga, BGN Perinta...</td>\n",
              "      <td>Wakil Kepala Badan Gizi Nasional atauBGNNanik ...</td>\n",
              "      <td>politik</td>\n",
              "      <td>['kualitas', 'makan', 'mbg', 'jaga', 'bgn', 'p...</td>\n",
              "      <td>['wakil', 'kepala', 'badan', 'gizi', 'nasional...</td>\n",
              "    </tr>\n",
              "    <tr>\n",
              "      <th>3</th>\n",
              "      <td>2073690</td>\n",
              "      <td>BGN Melarang Makanan Pabrikan untuk MBG, tapi ...</td>\n",
              "      <td>WAKIL Kepala Badan Gizi Nasional (BGN) Nanik S...</td>\n",
              "      <td>politik</td>\n",
              "      <td>['bgn', 'larang', 'makan', 'pabrikan', 'mbg', ...</td>\n",
              "      <td>['wakil', 'kepala', 'badan', 'gizi', 'nasional...</td>\n",
              "    </tr>\n",
              "    <tr>\n",
              "      <th>4</th>\n",
              "      <td>2073683</td>\n",
              "      <td>Kaesang Pangarep Melantik Bapak J Jadi Ketua D...</td>\n",
              "      <td>KETUA Umum Partai Solidaritas Indonesia atauPS...</td>\n",
              "      <td>politik</td>\n",
              "      <td>['kaesang', 'pangarep', 'lantik', 'j', 'ketua'...</td>\n",
              "      <td>['ketua', 'partai', 'solidaritas', 'indonesia'...</td>\n",
              "    </tr>\n",
              "  </tbody>\n",
              "</table>\n",
              "</div>"
            ],
            "text/plain": [
              "   id_berita                                       judul_berita  \\\n",
              "0    2073715  Alasan Ahmad Ali Meninggalkan NasDem untuk Gab...   \n",
              "1    2073713  Perintah Panglima TNI untuk SPPG Agar Kasus Ke...   \n",
              "2    2073697  Agar Kualitas Makanan MBG Terjaga, BGN Perinta...   \n",
              "3    2073690  BGN Melarang Makanan Pabrikan untuk MBG, tapi ...   \n",
              "4    2073683  Kaesang Pangarep Melantik Bapak J Jadi Ketua D...   \n",
              "\n",
              "                                          isi_berita kategori_berita  \\\n",
              "0  KETUA Harian Partai Solidaritas Indonesia (PSI...         politik   \n",
              "1  PANGLIMA TNI JenderalAgus Subiyantomemerintahk...         politik   \n",
              "2  Wakil Kepala Badan Gizi Nasional atauBGNNanik ...         politik   \n",
              "3  WAKIL Kepala Badan Gizi Nasional (BGN) Nanik S...         politik   \n",
              "4  KETUA Umum Partai Solidaritas Indonesia atauPS...         politik   \n",
              "\n",
              "                                         judul_clean  \\\n",
              "0  ['alas', 'ahmad', 'ali', 'tinggal', 'nasdem', ...   \n",
              "1  ['perintah', 'panglima', 'tni', 'sppg', 'racun...   \n",
              "2  ['kualitas', 'makan', 'mbg', 'jaga', 'bgn', 'p...   \n",
              "3  ['bgn', 'larang', 'makan', 'pabrikan', 'mbg', ...   \n",
              "4  ['kaesang', 'pangarep', 'lantik', 'j', 'ketua'...   \n",
              "\n",
              "                                           isi_clean  \n",
              "0  ['ketua', 'hari', 'partai', 'solidaritas', 'in...  \n",
              "1  ['panglima', 'tni', 'jenderalagus', 'subiyanto...  \n",
              "2  ['wakil', 'kepala', 'badan', 'gizi', 'nasional...  \n",
              "3  ['wakil', 'kepala', 'badan', 'gizi', 'nasional...  \n",
              "4  ['ketua', 'partai', 'solidaritas', 'indonesia'...  "
            ]
          },
          "execution_count": 3,
          "metadata": {},
          "output_type": "execute_result"
        }
      ],
      "source": [
        "df = pd.read_csv(\"preprocessing_berita.csv\")\n",
        "df.head()"
      ]
    },
    {
      "cell_type": "code",
      "execution_count": 4,
      "metadata": {
        "colab": {
          "base_uri": "https://localhost:8080/",
          "height": 206
        },
        "id": "10frWSF87Xbw",
        "outputId": "5f2187d0-6a8b-45bf-e58a-a26980c690b3"
      },
      "outputs": [
        {
          "data": {
            "text/html": [
              "<div>\n",
              "<style scoped>\n",
              "    .dataframe tbody tr th:only-of-type {\n",
              "        vertical-align: middle;\n",
              "    }\n",
              "\n",
              "    .dataframe tbody tr th {\n",
              "        vertical-align: top;\n",
              "    }\n",
              "\n",
              "    .dataframe thead th {\n",
              "        text-align: right;\n",
              "    }\n",
              "</style>\n",
              "<table border=\"1\" class=\"dataframe\">\n",
              "  <thead>\n",
              "    <tr style=\"text-align: right;\">\n",
              "      <th></th>\n",
              "      <th>isi_clean</th>\n",
              "      <th>isi_clean_joined</th>\n",
              "    </tr>\n",
              "  </thead>\n",
              "  <tbody>\n",
              "    <tr>\n",
              "      <th>0</th>\n",
              "      <td>['ketua', 'hari', 'partai', 'solidaritas', 'in...</td>\n",
              "      <td>ketua hari partai solidaritas indonesia psi ah...</td>\n",
              "    </tr>\n",
              "    <tr>\n",
              "      <th>1</th>\n",
              "      <td>['panglima', 'tni', 'jenderalagus', 'subiyanto...</td>\n",
              "      <td>panglima tni jenderalagus subiyantomemerintahk...</td>\n",
              "    </tr>\n",
              "    <tr>\n",
              "      <th>2</th>\n",
              "      <td>['wakil', 'kepala', 'badan', 'gizi', 'nasional...</td>\n",
              "      <td>wakil kepala badan gizi nasional ataubgnnanik ...</td>\n",
              "    </tr>\n",
              "    <tr>\n",
              "      <th>3</th>\n",
              "      <td>['wakil', 'kepala', 'badan', 'gizi', 'nasional...</td>\n",
              "      <td>wakil kepala badan gizi nasional bgn nanik s d...</td>\n",
              "    </tr>\n",
              "    <tr>\n",
              "      <th>4</th>\n",
              "      <td>['ketua', 'partai', 'solidaritas', 'indonesia'...</td>\n",
              "      <td>ketua partai solidaritas indonesia ataupsikaes...</td>\n",
              "    </tr>\n",
              "  </tbody>\n",
              "</table>\n",
              "</div>"
            ],
            "text/plain": [
              "                                           isi_clean  \\\n",
              "0  ['ketua', 'hari', 'partai', 'solidaritas', 'in...   \n",
              "1  ['panglima', 'tni', 'jenderalagus', 'subiyanto...   \n",
              "2  ['wakil', 'kepala', 'badan', 'gizi', 'nasional...   \n",
              "3  ['wakil', 'kepala', 'badan', 'gizi', 'nasional...   \n",
              "4  ['ketua', 'partai', 'solidaritas', 'indonesia'...   \n",
              "\n",
              "                                    isi_clean_joined  \n",
              "0  ketua hari partai solidaritas indonesia psi ah...  \n",
              "1  panglima tni jenderalagus subiyantomemerintahk...  \n",
              "2  wakil kepala badan gizi nasional ataubgnnanik ...  \n",
              "3  wakil kepala badan gizi nasional bgn nanik s d...  \n",
              "4  ketua partai solidaritas indonesia ataupsikaes...  "
            ]
          },
          "execution_count": 4,
          "metadata": {},
          "output_type": "execute_result"
        }
      ],
      "source": [
        "df[\"isi_clean_joined\"] = df[\"isi_clean\"].apply(\n",
        "    lambda x: \" \".join(ast.literal_eval(x)) if isinstance(x, str) else \"\"\n",
        ")\n",
        "\n",
        "\n",
        "df[[\"isi_clean\", \"isi_clean_joined\"]].head()"
      ]
    },
    {
      "cell_type": "code",
      "execution_count": 5,
      "metadata": {
        "colab": {
          "base_uri": "https://localhost:8080/",
          "height": 392
        },
        "id": "LF0qNxhOmyJ5",
        "outputId": "41ab8518-a512-4ac7-86ce-b6ac349fc02c"
      },
      "outputs": [
        {
          "data": {
            "text/html": [
              "<div>\n",
              "<style scoped>\n",
              "    .dataframe tbody tr th:only-of-type {\n",
              "        vertical-align: middle;\n",
              "    }\n",
              "\n",
              "    .dataframe tbody tr th {\n",
              "        vertical-align: top;\n",
              "    }\n",
              "\n",
              "    .dataframe thead th {\n",
              "        text-align: right;\n",
              "    }\n",
              "</style>\n",
              "<table border=\"1\" class=\"dataframe\">\n",
              "  <thead>\n",
              "    <tr style=\"text-align: right;\">\n",
              "      <th></th>\n",
              "      <th>id_berita</th>\n",
              "      <th>absen</th>\n",
              "      <th>acara</th>\n",
              "      <th>ada</th>\n",
              "      <th>adat</th>\n",
              "      <th>adik</th>\n",
              "      <th>adil</th>\n",
              "      <th>adnan</th>\n",
              "      <th>adu</th>\n",
              "      <th>agam</th>\n",
              "      <th>...</th>\n",
              "      <th>wib</th>\n",
              "      <th>wilayah</th>\n",
              "      <th>wisata</th>\n",
              "      <th>wisatawan</th>\n",
              "      <th>wta</th>\n",
              "      <th>wujud</th>\n",
              "      <th>ya</th>\n",
              "      <th>yogyakarta</th>\n",
              "      <th>york</th>\n",
              "      <th>zona</th>\n",
              "    </tr>\n",
              "  </thead>\n",
              "  <tbody>\n",
              "    <tr>\n",
              "      <th>0</th>\n",
              "      <td>2073715</td>\n",
              "      <td>0.0</td>\n",
              "      <td>0.000000</td>\n",
              "      <td>0.0</td>\n",
              "      <td>0.0</td>\n",
              "      <td>0.0</td>\n",
              "      <td>0.000000</td>\n",
              "      <td>0.0</td>\n",
              "      <td>0.0</td>\n",
              "      <td>0.0</td>\n",
              "      <td>...</td>\n",
              "      <td>0.0</td>\n",
              "      <td>0.000000</td>\n",
              "      <td>0.0</td>\n",
              "      <td>0.0</td>\n",
              "      <td>0.0</td>\n",
              "      <td>0.000000</td>\n",
              "      <td>0.023986</td>\n",
              "      <td>0.0</td>\n",
              "      <td>0.0</td>\n",
              "      <td>0.0</td>\n",
              "    </tr>\n",
              "    <tr>\n",
              "      <th>1</th>\n",
              "      <td>2073713</td>\n",
              "      <td>0.0</td>\n",
              "      <td>0.034543</td>\n",
              "      <td>0.0</td>\n",
              "      <td>0.0</td>\n",
              "      <td>0.0</td>\n",
              "      <td>0.000000</td>\n",
              "      <td>0.0</td>\n",
              "      <td>0.0</td>\n",
              "      <td>0.0</td>\n",
              "      <td>...</td>\n",
              "      <td>0.0</td>\n",
              "      <td>0.026176</td>\n",
              "      <td>0.0</td>\n",
              "      <td>0.0</td>\n",
              "      <td>0.0</td>\n",
              "      <td>0.040835</td>\n",
              "      <td>0.000000</td>\n",
              "      <td>0.0</td>\n",
              "      <td>0.0</td>\n",
              "      <td>0.0</td>\n",
              "    </tr>\n",
              "    <tr>\n",
              "      <th>2</th>\n",
              "      <td>2073697</td>\n",
              "      <td>0.0</td>\n",
              "      <td>0.000000</td>\n",
              "      <td>0.0</td>\n",
              "      <td>0.0</td>\n",
              "      <td>0.0</td>\n",
              "      <td>0.000000</td>\n",
              "      <td>0.0</td>\n",
              "      <td>0.0</td>\n",
              "      <td>0.0</td>\n",
              "      <td>...</td>\n",
              "      <td>0.0</td>\n",
              "      <td>0.038078</td>\n",
              "      <td>0.0</td>\n",
              "      <td>0.0</td>\n",
              "      <td>0.0</td>\n",
              "      <td>0.000000</td>\n",
              "      <td>0.000000</td>\n",
              "      <td>0.0</td>\n",
              "      <td>0.0</td>\n",
              "      <td>0.0</td>\n",
              "    </tr>\n",
              "    <tr>\n",
              "      <th>3</th>\n",
              "      <td>2073690</td>\n",
              "      <td>0.0</td>\n",
              "      <td>0.000000</td>\n",
              "      <td>0.0</td>\n",
              "      <td>0.0</td>\n",
              "      <td>0.0</td>\n",
              "      <td>0.000000</td>\n",
              "      <td>0.0</td>\n",
              "      <td>0.0</td>\n",
              "      <td>0.0</td>\n",
              "      <td>...</td>\n",
              "      <td>0.0</td>\n",
              "      <td>0.035308</td>\n",
              "      <td>0.0</td>\n",
              "      <td>0.0</td>\n",
              "      <td>0.0</td>\n",
              "      <td>0.000000</td>\n",
              "      <td>0.000000</td>\n",
              "      <td>0.0</td>\n",
              "      <td>0.0</td>\n",
              "      <td>0.0</td>\n",
              "    </tr>\n",
              "    <tr>\n",
              "      <th>4</th>\n",
              "      <td>2073683</td>\n",
              "      <td>0.0</td>\n",
              "      <td>0.034034</td>\n",
              "      <td>0.0</td>\n",
              "      <td>0.0</td>\n",
              "      <td>0.0</td>\n",
              "      <td>0.000000</td>\n",
              "      <td>0.0</td>\n",
              "      <td>0.0</td>\n",
              "      <td>0.0</td>\n",
              "      <td>...</td>\n",
              "      <td>0.0</td>\n",
              "      <td>0.000000</td>\n",
              "      <td>0.0</td>\n",
              "      <td>0.0</td>\n",
              "      <td>0.0</td>\n",
              "      <td>0.000000</td>\n",
              "      <td>0.000000</td>\n",
              "      <td>0.0</td>\n",
              "      <td>0.0</td>\n",
              "      <td>0.0</td>\n",
              "    </tr>\n",
              "    <tr>\n",
              "      <th>5</th>\n",
              "      <td>2073673</td>\n",
              "      <td>0.0</td>\n",
              "      <td>0.000000</td>\n",
              "      <td>0.0</td>\n",
              "      <td>0.0</td>\n",
              "      <td>0.0</td>\n",
              "      <td>0.000000</td>\n",
              "      <td>0.0</td>\n",
              "      <td>0.0</td>\n",
              "      <td>0.0</td>\n",
              "      <td>...</td>\n",
              "      <td>0.0</td>\n",
              "      <td>0.000000</td>\n",
              "      <td>0.0</td>\n",
              "      <td>0.0</td>\n",
              "      <td>0.0</td>\n",
              "      <td>0.000000</td>\n",
              "      <td>0.000000</td>\n",
              "      <td>0.0</td>\n",
              "      <td>0.0</td>\n",
              "      <td>0.0</td>\n",
              "    </tr>\n",
              "    <tr>\n",
              "      <th>6</th>\n",
              "      <td>2073669</td>\n",
              "      <td>0.0</td>\n",
              "      <td>0.000000</td>\n",
              "      <td>0.0</td>\n",
              "      <td>0.0</td>\n",
              "      <td>0.0</td>\n",
              "      <td>0.000000</td>\n",
              "      <td>0.0</td>\n",
              "      <td>0.0</td>\n",
              "      <td>0.0</td>\n",
              "      <td>...</td>\n",
              "      <td>0.0</td>\n",
              "      <td>0.000000</td>\n",
              "      <td>0.0</td>\n",
              "      <td>0.0</td>\n",
              "      <td>0.0</td>\n",
              "      <td>0.000000</td>\n",
              "      <td>0.000000</td>\n",
              "      <td>0.0</td>\n",
              "      <td>0.0</td>\n",
              "      <td>0.0</td>\n",
              "    </tr>\n",
              "    <tr>\n",
              "      <th>7</th>\n",
              "      <td>2073658</td>\n",
              "      <td>0.0</td>\n",
              "      <td>0.061930</td>\n",
              "      <td>0.0</td>\n",
              "      <td>0.0</td>\n",
              "      <td>0.0</td>\n",
              "      <td>0.020721</td>\n",
              "      <td>0.0</td>\n",
              "      <td>0.0</td>\n",
              "      <td>0.0</td>\n",
              "      <td>...</td>\n",
              "      <td>0.0</td>\n",
              "      <td>0.015643</td>\n",
              "      <td>0.0</td>\n",
              "      <td>0.0</td>\n",
              "      <td>0.0</td>\n",
              "      <td>0.000000</td>\n",
              "      <td>0.000000</td>\n",
              "      <td>0.0</td>\n",
              "      <td>0.0</td>\n",
              "      <td>0.0</td>\n",
              "    </tr>\n",
              "    <tr>\n",
              "      <th>8</th>\n",
              "      <td>2073654</td>\n",
              "      <td>0.0</td>\n",
              "      <td>0.000000</td>\n",
              "      <td>0.0</td>\n",
              "      <td>0.0</td>\n",
              "      <td>0.0</td>\n",
              "      <td>0.129848</td>\n",
              "      <td>0.0</td>\n",
              "      <td>0.0</td>\n",
              "      <td>0.0</td>\n",
              "      <td>...</td>\n",
              "      <td>0.0</td>\n",
              "      <td>0.000000</td>\n",
              "      <td>0.0</td>\n",
              "      <td>0.0</td>\n",
              "      <td>0.0</td>\n",
              "      <td>0.000000</td>\n",
              "      <td>0.000000</td>\n",
              "      <td>0.0</td>\n",
              "      <td>0.0</td>\n",
              "      <td>0.0</td>\n",
              "    </tr>\n",
              "    <tr>\n",
              "      <th>9</th>\n",
              "      <td>2073653</td>\n",
              "      <td>0.0</td>\n",
              "      <td>0.000000</td>\n",
              "      <td>0.0</td>\n",
              "      <td>0.0</td>\n",
              "      <td>0.0</td>\n",
              "      <td>0.000000</td>\n",
              "      <td>0.0</td>\n",
              "      <td>0.0</td>\n",
              "      <td>0.0</td>\n",
              "      <td>...</td>\n",
              "      <td>0.0</td>\n",
              "      <td>0.000000</td>\n",
              "      <td>0.0</td>\n",
              "      <td>0.0</td>\n",
              "      <td>0.0</td>\n",
              "      <td>0.000000</td>\n",
              "      <td>0.000000</td>\n",
              "      <td>0.0</td>\n",
              "      <td>0.0</td>\n",
              "      <td>0.0</td>\n",
              "    </tr>\n",
              "  </tbody>\n",
              "</table>\n",
              "<p>10 rows × 1001 columns</p>\n",
              "</div>"
            ],
            "text/plain": [
              "   id_berita  absen     acara  ada  adat  adik      adil  adnan  adu  agam  \\\n",
              "0    2073715    0.0  0.000000  0.0   0.0   0.0  0.000000    0.0  0.0   0.0   \n",
              "1    2073713    0.0  0.034543  0.0   0.0   0.0  0.000000    0.0  0.0   0.0   \n",
              "2    2073697    0.0  0.000000  0.0   0.0   0.0  0.000000    0.0  0.0   0.0   \n",
              "3    2073690    0.0  0.000000  0.0   0.0   0.0  0.000000    0.0  0.0   0.0   \n",
              "4    2073683    0.0  0.034034  0.0   0.0   0.0  0.000000    0.0  0.0   0.0   \n",
              "5    2073673    0.0  0.000000  0.0   0.0   0.0  0.000000    0.0  0.0   0.0   \n",
              "6    2073669    0.0  0.000000  0.0   0.0   0.0  0.000000    0.0  0.0   0.0   \n",
              "7    2073658    0.0  0.061930  0.0   0.0   0.0  0.020721    0.0  0.0   0.0   \n",
              "8    2073654    0.0  0.000000  0.0   0.0   0.0  0.129848    0.0  0.0   0.0   \n",
              "9    2073653    0.0  0.000000  0.0   0.0   0.0  0.000000    0.0  0.0   0.0   \n",
              "\n",
              "   ...  wib   wilayah  wisata  wisatawan  wta     wujud        ya  yogyakarta  \\\n",
              "0  ...  0.0  0.000000     0.0        0.0  0.0  0.000000  0.023986         0.0   \n",
              "1  ...  0.0  0.026176     0.0        0.0  0.0  0.040835  0.000000         0.0   \n",
              "2  ...  0.0  0.038078     0.0        0.0  0.0  0.000000  0.000000         0.0   \n",
              "3  ...  0.0  0.035308     0.0        0.0  0.0  0.000000  0.000000         0.0   \n",
              "4  ...  0.0  0.000000     0.0        0.0  0.0  0.000000  0.000000         0.0   \n",
              "5  ...  0.0  0.000000     0.0        0.0  0.0  0.000000  0.000000         0.0   \n",
              "6  ...  0.0  0.000000     0.0        0.0  0.0  0.000000  0.000000         0.0   \n",
              "7  ...  0.0  0.015643     0.0        0.0  0.0  0.000000  0.000000         0.0   \n",
              "8  ...  0.0  0.000000     0.0        0.0  0.0  0.000000  0.000000         0.0   \n",
              "9  ...  0.0  0.000000     0.0        0.0  0.0  0.000000  0.000000         0.0   \n",
              "\n",
              "   york  zona  \n",
              "0   0.0   0.0  \n",
              "1   0.0   0.0  \n",
              "2   0.0   0.0  \n",
              "3   0.0   0.0  \n",
              "4   0.0   0.0  \n",
              "5   0.0   0.0  \n",
              "6   0.0   0.0  \n",
              "7   0.0   0.0  \n",
              "8   0.0   0.0  \n",
              "9   0.0   0.0  \n",
              "\n",
              "[10 rows x 1001 columns]"
            ]
          },
          "metadata": {},
          "output_type": "display_data"
        }
      ],
      "source": [
        "# load CSV\n",
        "df = pd.read_csv(\"preprocessing_berita.csv\")\n",
        "\n",
        "# pakai kolom isi_clean yang ada\n",
        "df[\"isi_clean\"] = df[\"isi_clean\"].fillna(\"\")\n",
        "\n",
        "# Inisialisasi TF-IDF Vectorizer\n",
        "vectorizer = TfidfVectorizer(max_features=1000)  # ambil 1000 fitur teratas\n",
        "\n",
        "# Fit dan transform\n",
        "X_tfidf = vectorizer.fit_transform(df[\"isi_clean\"])\n",
        "\n",
        "# Buat DataFrame TF-IDF\n",
        "tfidf_df = pd.DataFrame(\n",
        "    X_tfidf.toarray(),\n",
        "    columns=vectorizer.get_feature_names_out()\n",
        ")\n",
        "\n",
        "# Tambahkan kolom id_berita di depan\n",
        "tfidf_df.insert(0, \"id_berita\", df[\"id_berita\"].values)\n",
        "\n",
        "# Lihat hasilnya\n",
        "display(tfidf_df.head(10))\n",
        "\n",
        "# Kalau mau simpan ke file CSV\n",
        "tfidf_df.to_csv(\"TFIDF_Berita.csv\", index=False, encoding=\"utf-8-sig\")\n"
      ]
    },
    {
      "cell_type": "markdown",
      "metadata": {
        "id": "WI6DbiF7nl7G"
      },
      "source": [
        "### Word Embedding"
      ]
    },
    {
      "cell_type": "code",
      "execution_count": 6,
      "metadata": {
        "colab": {
          "base_uri": "https://localhost:8080/"
        },
        "id": "X84LTx_EoF7g",
        "outputId": "b95aa142-124e-4cb9-c525-57024e0b540a"
      },
      "outputs": [
        {
          "name": "stdout",
          "output_type": "stream",
          "text": [
            "Requirement already satisfied: gensim in /usr/local/python/3.12.1/lib/python3.12/site-packages (4.3.3)\n",
            "Requirement already satisfied: numpy<2.0,>=1.18.5 in /usr/local/python/3.12.1/lib/python3.12/site-packages (from gensim) (1.26.4)\n",
            "Requirement already satisfied: scipy<1.14.0,>=1.7.0 in /usr/local/python/3.12.1/lib/python3.12/site-packages (from gensim) (1.13.1)\n",
            "Requirement already satisfied: smart-open>=1.8.1 in /usr/local/python/3.12.1/lib/python3.12/site-packages (from gensim) (7.3.1)\n",
            "Requirement already satisfied: wrapt in /usr/local/python/3.12.1/lib/python3.12/site-packages (from smart-open>=1.8.1->gensim) (1.17.3)\n",
            "\n",
            "\u001b[1m[\u001b[0m\u001b[34;49mnotice\u001b[0m\u001b[1;39;49m]\u001b[0m\u001b[39;49m A new release of pip is available: \u001b[0m\u001b[31;49m25.1.1\u001b[0m\u001b[39;49m -> \u001b[0m\u001b[32;49m25.2\u001b[0m\n",
            "\u001b[1m[\u001b[0m\u001b[34;49mnotice\u001b[0m\u001b[1;39;49m]\u001b[0m\u001b[39;49m To update, run: \u001b[0m\u001b[32;49mpython3 -m pip install --upgrade pip\u001b[0m\n"
          ]
        }
      ],
      "source": [
        "!pip install gensim"
      ]
    },
    {
      "cell_type": "code",
      "execution_count": 7,
      "metadata": {
        "id": "9Q8Ao_AmrBKF"
      },
      "outputs": [],
      "source": [
        "import pandas as pd\n",
        "import ast\n",
        "from gensim.models import Word2Vec"
      ]
    },
    {
      "cell_type": "code",
      "execution_count": 8,
      "metadata": {
        "colab": {
          "base_uri": "https://localhost:8080/",
          "height": 293
        },
        "id": "iCBRRMLWQ6OZ",
        "outputId": "bf12cb17-f999-4b64-ed36-31ed0d81e324"
      },
      "outputs": [
        {
          "data": {
            "text/html": [
              "<div>\n",
              "<style scoped>\n",
              "    .dataframe tbody tr th:only-of-type {\n",
              "        vertical-align: middle;\n",
              "    }\n",
              "\n",
              "    .dataframe tbody tr th {\n",
              "        vertical-align: top;\n",
              "    }\n",
              "\n",
              "    .dataframe thead th {\n",
              "        text-align: right;\n",
              "    }\n",
              "</style>\n",
              "<table border=\"1\" class=\"dataframe\">\n",
              "  <thead>\n",
              "    <tr style=\"text-align: right;\">\n",
              "      <th></th>\n",
              "      <th>id_berita</th>\n",
              "      <th>judul_berita</th>\n",
              "      <th>isi_berita</th>\n",
              "      <th>kategori_berita</th>\n",
              "      <th>judul_clean</th>\n",
              "      <th>isi_clean</th>\n",
              "    </tr>\n",
              "  </thead>\n",
              "  <tbody>\n",
              "    <tr>\n",
              "      <th>0</th>\n",
              "      <td>2073715</td>\n",
              "      <td>Alasan Ahmad Ali Meninggalkan NasDem untuk Gab...</td>\n",
              "      <td>KETUA Harian Partai Solidaritas Indonesia (PSI...</td>\n",
              "      <td>politik</td>\n",
              "      <td>['alas', 'ahmad', 'ali', 'tinggal', 'nasdem', ...</td>\n",
              "      <td>['ketua', 'hari', 'partai', 'solidaritas', 'in...</td>\n",
              "    </tr>\n",
              "    <tr>\n",
              "      <th>1</th>\n",
              "      <td>2073713</td>\n",
              "      <td>Perintah Panglima TNI untuk SPPG Agar Kasus Ke...</td>\n",
              "      <td>PANGLIMA TNI JenderalAgus Subiyantomemerintahk...</td>\n",
              "      <td>politik</td>\n",
              "      <td>['perintah', 'panglima', 'tni', 'sppg', 'racun...</td>\n",
              "      <td>['panglima', 'tni', 'jenderalagus', 'subiyanto...</td>\n",
              "    </tr>\n",
              "    <tr>\n",
              "      <th>2</th>\n",
              "      <td>2073697</td>\n",
              "      <td>Agar Kualitas Makanan MBG Terjaga, BGN Perinta...</td>\n",
              "      <td>Wakil Kepala Badan Gizi Nasional atauBGNNanik ...</td>\n",
              "      <td>politik</td>\n",
              "      <td>['kualitas', 'makan', 'mbg', 'jaga', 'bgn', 'p...</td>\n",
              "      <td>['wakil', 'kepala', 'badan', 'gizi', 'nasional...</td>\n",
              "    </tr>\n",
              "    <tr>\n",
              "      <th>3</th>\n",
              "      <td>2073690</td>\n",
              "      <td>BGN Melarang Makanan Pabrikan untuk MBG, tapi ...</td>\n",
              "      <td>WAKIL Kepala Badan Gizi Nasional (BGN) Nanik S...</td>\n",
              "      <td>politik</td>\n",
              "      <td>['bgn', 'larang', 'makan', 'pabrikan', 'mbg', ...</td>\n",
              "      <td>['wakil', 'kepala', 'badan', 'gizi', 'nasional...</td>\n",
              "    </tr>\n",
              "    <tr>\n",
              "      <th>4</th>\n",
              "      <td>2073683</td>\n",
              "      <td>Kaesang Pangarep Melantik Bapak J Jadi Ketua D...</td>\n",
              "      <td>KETUA Umum Partai Solidaritas Indonesia atauPS...</td>\n",
              "      <td>politik</td>\n",
              "      <td>['kaesang', 'pangarep', 'lantik', 'j', 'ketua'...</td>\n",
              "      <td>['ketua', 'partai', 'solidaritas', 'indonesia'...</td>\n",
              "    </tr>\n",
              "  </tbody>\n",
              "</table>\n",
              "</div>"
            ],
            "text/plain": [
              "   id_berita                                       judul_berita  \\\n",
              "0    2073715  Alasan Ahmad Ali Meninggalkan NasDem untuk Gab...   \n",
              "1    2073713  Perintah Panglima TNI untuk SPPG Agar Kasus Ke...   \n",
              "2    2073697  Agar Kualitas Makanan MBG Terjaga, BGN Perinta...   \n",
              "3    2073690  BGN Melarang Makanan Pabrikan untuk MBG, tapi ...   \n",
              "4    2073683  Kaesang Pangarep Melantik Bapak J Jadi Ketua D...   \n",
              "\n",
              "                                          isi_berita kategori_berita  \\\n",
              "0  KETUA Harian Partai Solidaritas Indonesia (PSI...         politik   \n",
              "1  PANGLIMA TNI JenderalAgus Subiyantomemerintahk...         politik   \n",
              "2  Wakil Kepala Badan Gizi Nasional atauBGNNanik ...         politik   \n",
              "3  WAKIL Kepala Badan Gizi Nasional (BGN) Nanik S...         politik   \n",
              "4  KETUA Umum Partai Solidaritas Indonesia atauPS...         politik   \n",
              "\n",
              "                                         judul_clean  \\\n",
              "0  ['alas', 'ahmad', 'ali', 'tinggal', 'nasdem', ...   \n",
              "1  ['perintah', 'panglima', 'tni', 'sppg', 'racun...   \n",
              "2  ['kualitas', 'makan', 'mbg', 'jaga', 'bgn', 'p...   \n",
              "3  ['bgn', 'larang', 'makan', 'pabrikan', 'mbg', ...   \n",
              "4  ['kaesang', 'pangarep', 'lantik', 'j', 'ketua'...   \n",
              "\n",
              "                                           isi_clean  \n",
              "0  ['ketua', 'hari', 'partai', 'solidaritas', 'in...  \n",
              "1  ['panglima', 'tni', 'jenderalagus', 'subiyanto...  \n",
              "2  ['wakil', 'kepala', 'badan', 'gizi', 'nasional...  \n",
              "3  ['wakil', 'kepala', 'badan', 'gizi', 'nasional...  \n",
              "4  ['ketua', 'partai', 'solidaritas', 'indonesia'...  "
            ]
          },
          "execution_count": 8,
          "metadata": {},
          "output_type": "execute_result"
        }
      ],
      "source": [
        "df = pd.read_csv(\"preprocessing_berita.csv\")\n",
        "df.head()"
      ]
    },
    {
      "cell_type": "code",
      "execution_count": 9,
      "metadata": {
        "colab": {
          "base_uri": "https://localhost:8080/"
        },
        "id": "FRZL5iwVq2ac",
        "outputId": "6cf5182d-1a61-4cb1-b2a4-643496f05956"
      },
      "outputs": [
        {
          "name": "stdout",
          "output_type": "stream",
          "text": [
            "\n",
            "Vektor untuk kata 'indonesia':\n",
            "[-0.3301441   0.19114102 -0.1891239   0.47356364 -0.00372095 -0.15565114\n",
            " -0.02632024  0.48477286 -0.28243455 -0.31239685]\n",
            "\n",
            "Kata yang mirip dengan 'indonesia':\n",
            "[('uni', 0.6932889819145203), ('dagang', 0.6882690191268921), ('comprehensive', 0.6869330406188965), ('canada', 0.6820045709609985), ('corruption', 0.6729468703269958)]\n"
          ]
        }
      ],
      "source": [
        "# ===============================\n",
        "# 1. Membuat korpus (list of lists kata)\n",
        "# ===============================\n",
        "corpus = df[\"isi_clean\"].apply(\n",
        "    lambda x: ast.literal_eval(x) if isinstance(x, str) else []  # Ubah string list menjadi list Python, atau [] jika kosong\n",
        ").tolist()  # Hasil akhir: list of lists (setiap berita menjadi satu list kata)\n",
        "\n",
        "# ===============================\n",
        "# 2. Membuat dan melatih Word2Vec (semua kata)\n",
        "# ===============================\n",
        "model = Word2Vec(\n",
        "    sentences=corpus,   # Input list of lists kata\n",
        "    vector_size=100,    # Dimensi vektor untuk tiap kata\n",
        "    window=5,           # Ukuran konteks: seberapa jauh kata tetangga diperhitungkan\n",
        "    min_count=1,        # Ambil semua kata, termasuk yang muncul sekali\n",
        "    sg=1,               # 1 = skip-gram, 0 = CBOW\n",
        "    workers=4           # Jumlah core CPU untuk paralelisasi\n",
        ")\n",
        "\n",
        "# ===============================\n",
        "# 3. Simpan model\n",
        "# ===============================\n",
        "model.save(\"word2vec_berita.model\")  # Simpan model ke file .model agar bisa dipakai lagi nanti\n",
        "\n",
        "# ===============================\n",
        "# 4. Cek hasil Word Embedding\n",
        "# ===============================\n",
        "print(\"\\nVektor untuk kata 'indonesia':\")\n",
        "print(model.wv['indonesia'][:10])  # Menampilkan 10 elemen pertama dari vektor kata\n",
        "\n",
        "print(\"\\nKata yang mirip dengan 'indonesia':\")\n",
        "print(model.wv.most_similar(\"indonesia\", topn=5))  # Menampilkan 5 kata paling mirip\n"
      ]
    },
    {
      "cell_type": "markdown",
      "metadata": {
        "id": "RZ-1xjPZ06f9"
      },
      "source": [
        "### Klasifikasi TF-IDF & Word Embedding"
      ]
    },
    {
      "cell_type": "markdown",
      "metadata": {
        "id": "aywqLPC76H_l"
      },
      "source": [
        "#### Library"
      ]
    },
    {
      "cell_type": "code",
      "execution_count": 10,
      "metadata": {
        "id": "QwCPsYfx5jfr"
      },
      "outputs": [],
      "source": [
        "import pandas as pd\n",
        "import ast\n",
        "from sklearn.feature_extraction.text import TfidfVectorizer\n",
        "from sklearn.model_selection import train_test_split\n",
        "from sklearn.naive_bayes import MultinomialNB\n",
        "from sklearn.linear_model import LogisticRegression\n",
        "from sklearn.metrics import accuracy_score, classification_report"
      ]
    },
    {
      "cell_type": "code",
      "execution_count": 11,
      "metadata": {
        "id": "sBqCl05e5l09"
      },
      "outputs": [],
      "source": [
        "from gensim.models import Word2Vec\n",
        "import numpy as np"
      ]
    },
    {
      "cell_type": "code",
      "execution_count": 12,
      "metadata": {
        "id": "fyixnS_v5nkc"
      },
      "outputs": [],
      "source": [
        "# Gabungkan token untuk TF-IDF\n",
        "df[\"isi_clean_joined\"] = df[\"isi_clean\"].apply(\n",
        "    lambda x: \" \".join(ast.literal_eval(x)) if isinstance(x, str) else \"\"\n",
        ")\n",
        "\n",
        "# Buat list of tokens untuk Word2Vec\n",
        "corpus = df[\"isi_clean\"].apply(\n",
        "    lambda x: ast.literal_eval(x) if isinstance(x, str) else []\n",
        ").tolist()"
      ]
    },
    {
      "cell_type": "code",
      "execution_count": 13,
      "metadata": {
        "id": "2sRFmnnF5qGb"
      },
      "outputs": [],
      "source": [
        "X_text = df[\"isi_clean_joined\"]\n",
        "y = df[\"kategori_berita\"]\n",
        "\n",
        "# === Split data (train/test) ===\n",
        "X_train, X_test, y_train, y_test, corpus_train, corpus_test = train_test_split(\n",
        "    X_text, y, corpus, test_size=0.2, random_state=42\n",
        ")"
      ]
    },
    {
      "cell_type": "code",
      "execution_count": 14,
      "metadata": {
        "colab": {
          "base_uri": "https://localhost:8080/"
        },
        "id": "9loSXR8o5sRO",
        "outputId": "9243313a-2a2c-45df-bc57-dbad1e487952"
      },
      "outputs": [
        {
          "name": "stdout",
          "output_type": "stream",
          "text": [
            "=== Hasil TF-IDF + Naive Bayes ===\n",
            "Akurasi: 0.8833333333333333\n",
            "               precision    recall  f1-score   support\n",
            "\n",
            "      ekonomi       0.82      0.82      0.82        22\n",
            "      hiburan       0.95      0.86      0.90        22\n",
            "        hukum       0.80      0.92      0.86        13\n",
            "internasional       0.84      0.91      0.88        23\n",
            "   lingkungan       0.91      0.95      0.93        22\n",
            "     olahraga       1.00      0.78      0.88        18\n",
            "     otomotif       0.94      1.00      0.97        16\n",
            "      politik       0.87      0.80      0.83        25\n",
            "    sepakbola       0.86      0.95      0.90        19\n",
            "\n",
            "     accuracy                           0.88       180\n",
            "    macro avg       0.89      0.89      0.89       180\n",
            " weighted avg       0.89      0.88      0.88       180\n",
            "\n"
          ]
        }
      ],
      "source": [
        "# TF-IDF Vectorization\n",
        "vectorizer = TfidfVectorizer(max_features=5000)\n",
        "X_train_tfidf = vectorizer.fit_transform(X_train)\n",
        "X_test_tfidf = vectorizer.transform(X_test)\n",
        "\n",
        "# Naive Bayes (cocok untuk teks)\n",
        "model_tfidf = MultinomialNB()\n",
        "model_tfidf.fit(X_train_tfidf, y_train)\n",
        "\n",
        "# Prediksi\n",
        "y_pred_tfidf = model_tfidf.predict(X_test_tfidf)\n",
        "\n",
        "print(\"=== Hasil TF-IDF + Naive Bayes ===\")\n",
        "print(\"Akurasi:\", accuracy_score(y_test, y_pred_tfidf))\n",
        "print(classification_report(y_test, y_pred_tfidf))"
      ]
    },
    {
      "cell_type": "code",
      "execution_count": 15,
      "metadata": {
        "colab": {
          "base_uri": "https://localhost:8080/"
        },
        "id": "vr1ME5sI535k",
        "outputId": "8b8dd1fa-260f-46ed-fb8b-5fc3fd79b81d"
      },
      "outputs": [
        {
          "name": "stdout",
          "output_type": "stream",
          "text": [
            "=== Hasil Word2Vec + Logistic Regression ===\n",
            "Akurasi: 0.8222222222222222\n",
            "               precision    recall  f1-score   support\n",
            "\n",
            "      ekonomi       0.72      0.82      0.77        22\n",
            "      hiburan       0.70      0.86      0.78        22\n",
            "        hukum       0.73      0.85      0.79        13\n",
            "internasional       0.84      0.91      0.88        23\n",
            "   lingkungan       0.83      0.68      0.75        22\n",
            "     olahraga       1.00      0.78      0.88        18\n",
            "     otomotif       0.94      1.00      0.97        16\n",
            "      politik       0.84      0.64      0.73        25\n",
            "    sepakbola       0.90      0.95      0.92        19\n",
            "\n",
            "     accuracy                           0.82       180\n",
            "    macro avg       0.83      0.83      0.83       180\n",
            " weighted avg       0.83      0.82      0.82       180\n",
            "\n"
          ]
        }
      ],
      "source": [
        "# Train Word2Vec dari corpus train\n",
        "w2v_model = Word2Vec(sentences=corpus_train, vector_size=100, window=5, min_count=2, sg=1)\n",
        "\n",
        "# Fungsi untuk ubah dokumen jadi rata-rata embedding\n",
        "def document_vector(doc):\n",
        "    doc = [word for word in doc if word in w2v_model.wv]\n",
        "    if len(doc) == 0:\n",
        "        return np.zeros(w2v_model.vector_size)\n",
        "    return np.mean(w2v_model.wv[doc], axis=0)\n",
        "\n",
        "# Transform ke vektor\n",
        "X_train_w2v = np.array([document_vector(doc) for doc in corpus_train])\n",
        "X_test_w2v = np.array([document_vector(doc) for doc in corpus_test])\n",
        "\n",
        "# Logistic Regression (cocok untuk dense vector)\n",
        "model_w2v = LogisticRegression(max_iter=1000)\n",
        "model_w2v.fit(X_train_w2v, y_train)\n",
        "\n",
        "# Prediksi\n",
        "y_pred_w2v = model_w2v.predict(X_test_w2v)\n",
        "\n",
        "print(\"=== Hasil Word2Vec + Logistic Regression ===\")\n",
        "print(\"Akurasi:\", accuracy_score(y_test, y_pred_w2v))\n",
        "print(classification_report(y_test, y_pred_w2v))"
      ]
    },
    {
      "cell_type": "code",
      "execution_count": null,
      "metadata": {
        "colab": {
          "base_uri": "https://localhost:8080/"
        },
        "id": "53uQsuo26BqU",
        "outputId": "c684c578-60f6-48dd-fdea-0f3f218a6166"
      },
      "outputs": [
        {
          "name": "stdout",
          "output_type": "stream",
          "text": [
            "\n",
            "=== Perbandingan Akurasi ===\n",
            "TF-IDF + Naive Bayes        : 0.8833\n",
            "Word2Vec + LogisticReg      : 0.8278\n"
          ]
        }
      ],
      "source": [
        "acc_tfidf = accuracy_score(y_test, y_pred_tfidf)\n",
        "acc_w2v = accuracy_score(y_test, y_pred_w2v)\n",
        "\n",
        "print(\"\\n=== Perbandingan Akurasi ===\")\n",
        "print(f\"TF-IDF + Naive Bayes        : {acc_tfidf:.4f}\")\n",
        "print(f\"Word2Vec + LogisticReg      : {acc_w2v:.4f}\")"
      ]
    }
  ],
  "metadata": {
    "colab": {
      "provenance": []
    },
    "kernelspec": {
      "display_name": "Python 3",
      "name": "python3"
    },
    "language_info": {
      "codemirror_mode": {
        "name": "ipython",
        "version": 3
      },
      "file_extension": ".py",
      "mimetype": "text/x-python",
      "name": "python",
      "nbconvert_exporter": "python",
      "pygments_lexer": "ipython3",
      "version": "3.12.1"
    }
  },
  "nbformat": 4,
  "nbformat_minor": 0
}
